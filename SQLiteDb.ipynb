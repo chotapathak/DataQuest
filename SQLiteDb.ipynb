{
 "cells": [
  {
   "cell_type": "code",
   "execution_count": 72,
   "metadata": {},
   "outputs": [
    {
     "name": "stdout",
     "output_type": "stream",
     "text": [
      "[(1, 'vikash', 'chota')]\n"
     ]
    }
   ],
   "source": [
    "from itertools import count\n",
    "import sqlite3\n",
    "\n",
    "# created db\n",
    "conn = sqlite3.connect(':memory:')\n",
    "# cursor do execution on db so assigned it\n",
    "cur = conn.cursor()\n",
    "\n",
    "\n",
    "class TheBase:\n",
    " \n",
    "    def __init__(self):\n",
    "        count\n",
    "        memConn = sqlite3.connect(':memory:')\n",
    "        # conn = sqlite3.connect('customer.db')\n",
    "        cur = memConn.cursor()\n",
    "        cur.execute('CREATE TABLE users(id Integer not null, name String, email String)')\n",
    "        # cur = conn.cursor()\n",
    "        self = self.count + 1\n",
    "    \n",
    "    def create( name, email):\n",
    "        name = name\n",
    "        email = email\n",
    "        \n",
    "    def insert( name, email):\n",
    "        name = name\n",
    "        email = email\n",
    "        cur.execute(\"Insert Into users Values(1,'vikash','chota')\")\n",
    "        \n",
    "    def get( name, email):\n",
    "        cur.execute('SELECT * FROM users')\n",
    "        print(cur.fetchall())\n",
    "\n",
    "\n",
    "TheBase.create( 'vikash', 'chota')\n",
    "TheBase.insert( 'akash', 'bda')\n",
    "TheBase.get( 'akash', 'bda')\n"
   ]
  },
  {
   "cell_type": "markdown",
   "metadata": {},
   "source": [
    "<h1> Database using python </h1>\n",
    " create database\n",
    " create table\n",
    " insert into table\n",
    " get table "
   ]
  },
  {
   "cell_type": "code",
   "execution_count": 76,
   "metadata": {},
   "outputs": [
    {
     "name": "stdout",
     "output_type": "stream",
     "text": [
      "[(1, 'SuperCAT', 450.09, 100.47, '2018-05-29'), (2, 'SpaceDog', 666.66, 150.76, '2018-06-01'), (3, 'MilkyParrot', 50, 8.9, '2018-06-04'), (4, 'PurplePanda', 60.6, 12, '2018-06-11'), (5, 'FireGoldfish', 48.48, 3.5, '2018-06-14')]\n"
     ]
    }
   ],
   "source": [
    "conn = sqlite3.connect(':memory:')\n",
    "cur = conn.cursor()\n",
    "\n",
    "arts = [\n",
    "    (1,'SuperCAT',450.09,100.47,'2018-05-29'),\n",
    "    (2,'SpaceDog',666.66,150.76,'2018-06-01'),\n",
    "    (3,'MilkyParrot',50.00,8.9,'2018-06-04'),\n",
    "    (4,'PurplePanda',60.60,12,'2018-06-11'),\n",
    "    (5,'FireGoldfish',48.48,3.5,'2018-06-14')\n",
    "]\n",
    "\n",
    "class TheBase:\n",
    "\n",
    "    artDB = sqlite3.connect('artwork.db') \n",
    "    count = 0\n",
    "    def __init__(self):\n",
    "        cur.count = self\n",
    "\n",
    "    def addData(name, email):\n",
    "        cur.execute\n",
    "\n",
    "def getData(e):\n",
    "    print(e)\n",
    "create = cur.execute('''CREATE TABLE ARTSALE (\n",
    "    ID INTEGER NOT NULL,\n",
    "    ARTNM CHAR(20),\n",
    "    SALEPRICE DECIMAL(6,2),\n",
    "    PROFIT DECIMAL(6,2),\n",
    "    SALEDATE DATE\n",
    "    );\n",
    "''')\n",
    "createPet = cur.execute('''    \n",
    "CREATE TABLE ART(\n",
    "    ID INTEGER NOT NULL,\n",
    "    Art VARCHAR(20),\n",
    "    QUANTITY INTEGER\n",
    "    );''')\n",
    "    \n",
    "insert = cur.executemany('INSERT INTO ARTSALE VALUES(?,?,?,?,?)', arts )\n",
    "\n",
    "insertPet = cur.execute('''INSERT INTO ART VALUES\n",
    "    (1,'Cat',3),\n",
    "    (2,'Dog',4),\n",
    "    (3,'Hamster',2);''')\n",
    "\n",
    "getPet = cur.execute('Select * from ARTSALE')\n",
    "\n",
    "print(cur.fetchall())\n",
    "conn.commit()\n"
   ]
  },
  {
   "cell_type": "code",
   "execution_count": 107,
   "metadata": {},
   "outputs": [
    {
     "name": "stdout",
     "output_type": "stream",
     "text": [
      "Arti\n",
      "Art'\n",
      "Art'\n",
      "Art'\n",
      "Arts\n",
      "Arte\n",
      "Art'\n",
      "Art'\n",
      "Arth\n",
      "Art'\n",
      "Arts\n",
      "Art'\n",
      "Art'\n",
      "Art'\n",
      "Arti\n",
      "Art'\n",
      "Art'\n",
      "Art\"\n",
      "Arti\n",
      "Arte\n",
      "Art'\n",
      "Arti\n",
      "Art'\n",
      "Art'\n",
      "Art'\n",
      "Art'\n",
      "Art'\n",
      "Art\"\n",
      "Art'\n"
     ]
    }
   ],
   "source": [
    "from csv import reader\n",
    "import re\n",
    "data = open('artswork.csv', 'r').read()\n",
    "\n",
    "df = data.split()\n",
    "# print(df)\n",
    "# df = pd.DataFrame(data, columns='name')\n",
    "# openfile = open('artswork.csv', 'r').read().strip()\n",
    "\n",
    "readfile = reader(df)\n",
    "# for i in readfile:\n",
    "#     print(i)\n",
    "\n",
    "for line in re.findall('Art.', str(df)):\n",
    "    print(line)"
   ]
  },
  {
   "cell_type": "code",
   "execution_count": null,
   "metadata": {},
   "outputs": [],
   "source": []
  }
 ],
 "metadata": {
  "kernelspec": {
   "display_name": "Python 3.8.9 64-bit",
   "language": "python",
   "name": "python3"
  },
  "language_info": {
   "codemirror_mode": {
    "name": "ipython",
    "version": 3
   },
   "file_extension": ".py",
   "mimetype": "text/x-python",
   "name": "python",
   "nbconvert_exporter": "python",
   "pygments_lexer": "ipython3",
   "version": "3.8.9"
  },
  "orig_nbformat": 4,
  "vscode": {
   "interpreter": {
    "hash": "31f2aee4e71d21fbe5cf8b01ff0e069b9275f58929596ceb00d14d90e3e16cd6"
   }
  }
 },
 "nbformat": 4,
 "nbformat_minor": 2
}
